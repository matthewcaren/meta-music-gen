{
 "cells": [
  {
   "cell_type": "markdown",
   "id": "0023288c-570c-46b6-919f-5f3e68fd5a22",
   "metadata": {},
   "source": [
    "# Tension model testing"
   ]
  },
  {
   "cell_type": "code",
   "execution_count": 2,
   "id": "d84f1fae-4166-4a09-8cd8-82e1cbe74e9d",
   "metadata": {},
   "outputs": [],
   "source": [
    "import numpy as np\n",
    "import music21\n",
    "\n",
    "import tension_algs"
   ]
  },
  {
   "cell_type": "markdown",
   "id": "dd8c498a-d5c9-4c67-bebc-39dc5cb4d152",
   "metadata": {},
   "source": [
    "## Simple Lerdhal"
   ]
  },
  {
   "cell_type": "code",
   "execution_count": 7,
   "id": "7cb94cbb-8366-45a2-9bec-22a9fb266b83",
   "metadata": {},
   "outputs": [
    {
     "name": "stdout",
     "output_type": "stream",
     "text": [
      "In C major:\n",
      "C major chord has tension: 5.0\n",
      "F major chord has tension: 8.0\n",
      "G major chord has tension: 10.0\n",
      "G7 chord has tension: 14.0\n",
      "F# major chord has tension: 17.0\n"
     ]
    }
   ],
   "source": [
    "print(\"In C major:\")\n",
    "print(\"C major chord has tension:\", tension_algs.simple_lerdahl([0,4,7], 0))\n",
    "print(\"F major chord has tension:\", tension_algs.simple_lerdahl([0,5,9], 0))\n",
    "print(\"G major chord has tension:\", tension_algs.simple_lerdahl([2,7,11], 0))\n",
    "print(\"G7 chord has tension:\", tension_algs.simple_lerdahl([2,5,7,11], 0))\n",
    "print(\"F# major chord has tension:\", tension_algs.simple_lerdahl([1,6,10], 0))"
   ]
  }
 ],
 "metadata": {
  "kernelspec": {
   "display_name": "Python 3 (ipykernel)",
   "language": "python",
   "name": "python3"
  },
  "language_info": {
   "codemirror_mode": {
    "name": "ipython",
    "version": 3
   },
   "file_extension": ".py",
   "mimetype": "text/x-python",
   "name": "python",
   "nbconvert_exporter": "python",
   "pygments_lexer": "ipython3",
   "version": "3.11.5"
  }
 },
 "nbformat": 4,
 "nbformat_minor": 5
}
